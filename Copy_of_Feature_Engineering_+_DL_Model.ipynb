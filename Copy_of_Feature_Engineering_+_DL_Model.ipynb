{
 "cells": [
  {
   "cell_type": "markdown",
   "metadata": {
    "id": "24ZpiDdLSI2v"
   },
   "source": [
    "## Feature Engineering"
   ]
  },
  {
   "cell_type": "markdown",
   "metadata": {
    "id": "5ME79KRZSLdL"
   },
   "source": [
    "\n",
    "*   The fourth project is the development of a notebook (code + explanation) that successfully engineers 12 unique types of features, **three** for each type of feature engineering: **transforming**, **interacting**, **mapping**, and **extracting**.\n",
    "* The second part of the assignment is the development of a **deep learning classification** model to predict the direction of the S&P500 for the dates **2018-01-01—2018-07-12** (test set).\n",
    "* The feature engineering section is unrelated to the model section, you can develop any features, not just features that would work for deep learning models (later on you can decide which features to use in your model).\n",
    "*  You also have to uncomment all the example features and make them run successfully  → **every** feature example has some error/s that you have to fix. Please also describe the error you fixed!\n",
    "*   Note that we *won't* be attempting to measure the quality of every feature (i.e., how much it improves the model), that is slightly too advanced for this course.\n"
   ]
  },
  {
   "cell_type": "code",
   "execution_count": 67,
   "metadata": {
    "id": "KK3ah2-KR7Mc"
   },
   "outputs": [],
   "source": [
    "import pandas as pd\n",
    "import numpy as np\n",
    "import matplotlib.pyplot as plt\n",
    "import matplotlib.patches as mpatches\n",
    "import seaborn as sns"
   ]
  },
  {
   "cell_type": "code",
   "execution_count": 68,
   "metadata": {
    "colab": {
     "base_uri": "https://localhost:8080/",
     "height": 386
    },
    "id": "F8Rf5rSWR-O4",
    "outputId": "c577798d-4142-4c85-df81-e73b4e3ddc02"
   },
   "outputs": [
    {
     "data": {
      "text/html": [
       "\n",
       "  <div id=\"df-12e0bdf3-e46c-4a90-aa10-bfcd0cb67fed\">\n",
       "    <div class=\"colab-df-container\">\n",
       "      <div>\n",
       "<style scoped>\n",
       "    .dataframe tbody tr th:only-of-type {\n",
       "        vertical-align: middle;\n",
       "    }\n",
       "\n",
       "    .dataframe tbody tr th {\n",
       "        vertical-align: top;\n",
       "    }\n",
       "\n",
       "    .dataframe thead th {\n",
       "        text-align: right;\n",
       "    }\n",
       "</style>\n",
       "<table border=\"1\" class=\"dataframe\">\n",
       "  <thead>\n",
       "    <tr style=\"text-align: right;\">\n",
       "      <th></th>\n",
       "      <th>FTSE</th>\n",
       "      <th>EuroStoxx50</th>\n",
       "      <th>SP500</th>\n",
       "      <th>Gold</th>\n",
       "      <th>French-2Y</th>\n",
       "      <th>French-5Y</th>\n",
       "      <th>French-10Y</th>\n",
       "      <th>French-30Y</th>\n",
       "      <th>US-2Y</th>\n",
       "      <th>US-5Y</th>\n",
       "      <th>US-10Y</th>\n",
       "      <th>US-30Y</th>\n",
       "      <th>Russel2000</th>\n",
       "      <th>EuroStox_Small</th>\n",
       "      <th>FTSE_Small</th>\n",
       "      <th>MSCI_EM</th>\n",
       "      <th>CRB</th>\n",
       "      <th>target</th>\n",
       "    </tr>\n",
       "    <tr>\n",
       "      <th>Dates</th>\n",
       "      <th></th>\n",
       "      <th></th>\n",
       "      <th></th>\n",
       "      <th></th>\n",
       "      <th></th>\n",
       "      <th></th>\n",
       "      <th></th>\n",
       "      <th></th>\n",
       "      <th></th>\n",
       "      <th></th>\n",
       "      <th></th>\n",
       "      <th></th>\n",
       "      <th></th>\n",
       "      <th></th>\n",
       "      <th></th>\n",
       "      <th></th>\n",
       "      <th></th>\n",
       "      <th></th>\n",
       "    </tr>\n",
       "  </thead>\n",
       "  <tbody>\n",
       "    <tr>\n",
       "      <th>1989-02-01</th>\n",
       "      <td>2039.7</td>\n",
       "      <td>875.47</td>\n",
       "      <td>297.09</td>\n",
       "      <td>392.50</td>\n",
       "      <td>99.081</td>\n",
       "      <td>99.039</td>\n",
       "      <td>99.572</td>\n",
       "      <td>100.000</td>\n",
       "      <td>100.031</td>\n",
       "      <td>100.345</td>\n",
       "      <td>101.080</td>\n",
       "      <td>101.936</td>\n",
       "      <td>154.38</td>\n",
       "      <td>117.50</td>\n",
       "      <td>1636.57</td>\n",
       "      <td>133.584</td>\n",
       "      <td>286.67</td>\n",
       "      <td>0</td>\n",
       "    </tr>\n",
       "    <tr>\n",
       "      <th>1989-02-02</th>\n",
       "      <td>2043.4</td>\n",
       "      <td>878.08</td>\n",
       "      <td>296.84</td>\n",
       "      <td>392.00</td>\n",
       "      <td>98.898</td>\n",
       "      <td>99.117</td>\n",
       "      <td>99.278</td>\n",
       "      <td>99.692</td>\n",
       "      <td>100.000</td>\n",
       "      <td>100.314</td>\n",
       "      <td>101.017</td>\n",
       "      <td>101.905</td>\n",
       "      <td>154.94</td>\n",
       "      <td>117.69</td>\n",
       "      <td>1642.94</td>\n",
       "      <td>135.052</td>\n",
       "      <td>287.03</td>\n",
       "      <td>1</td>\n",
       "    </tr>\n",
       "    <tr>\n",
       "      <th>1989-02-03</th>\n",
       "      <td>2069.9</td>\n",
       "      <td>884.09</td>\n",
       "      <td>296.97</td>\n",
       "      <td>388.75</td>\n",
       "      <td>98.907</td>\n",
       "      <td>99.002</td>\n",
       "      <td>99.145</td>\n",
       "      <td>99.178</td>\n",
       "      <td>99.812</td>\n",
       "      <td>100.062</td>\n",
       "      <td>100.921</td>\n",
       "      <td>101.718</td>\n",
       "      <td>155.69</td>\n",
       "      <td>118.62</td>\n",
       "      <td>1659.11</td>\n",
       "      <td>137.134</td>\n",
       "      <td>285.63</td>\n",
       "      <td>0</td>\n",
       "    </tr>\n",
       "    <tr>\n",
       "      <th>1989-02-06</th>\n",
       "      <td>2044.3</td>\n",
       "      <td>885.49</td>\n",
       "      <td>296.04</td>\n",
       "      <td>388.00</td>\n",
       "      <td>98.484</td>\n",
       "      <td>98.502</td>\n",
       "      <td>98.510</td>\n",
       "      <td>97.739</td>\n",
       "      <td>99.812</td>\n",
       "      <td>100.062</td>\n",
       "      <td>100.794</td>\n",
       "      <td>101.468</td>\n",
       "      <td>155.58</td>\n",
       "      <td>118.89</td>\n",
       "      <td>1656.86</td>\n",
       "      <td>137.037</td>\n",
       "      <td>284.69</td>\n",
       "      <td>1</td>\n",
       "    </tr>\n",
       "    <tr>\n",
       "      <th>1989-02-07</th>\n",
       "      <td>2072.8</td>\n",
       "      <td>883.82</td>\n",
       "      <td>299.63</td>\n",
       "      <td>392.75</td>\n",
       "      <td>98.438</td>\n",
       "      <td>98.312</td>\n",
       "      <td>98.292</td>\n",
       "      <td>97.688</td>\n",
       "      <td>99.906</td>\n",
       "      <td>100.251</td>\n",
       "      <td>101.144</td>\n",
       "      <td>102.092</td>\n",
       "      <td>156.84</td>\n",
       "      <td>118.28</td>\n",
       "      <td>1662.76</td>\n",
       "      <td>136.914</td>\n",
       "      <td>284.21</td>\n",
       "      <td>0</td>\n",
       "    </tr>\n",
       "  </tbody>\n",
       "</table>\n",
       "</div>\n",
       "      <button class=\"colab-df-convert\" onclick=\"convertToInteractive('df-12e0bdf3-e46c-4a90-aa10-bfcd0cb67fed')\"\n",
       "              title=\"Convert this dataframe to an interactive table.\"\n",
       "              style=\"display:none;\">\n",
       "        \n",
       "  <svg xmlns=\"http://www.w3.org/2000/svg\" height=\"24px\"viewBox=\"0 0 24 24\"\n",
       "       width=\"24px\">\n",
       "    <path d=\"M0 0h24v24H0V0z\" fill=\"none\"/>\n",
       "    <path d=\"M18.56 5.44l.94 2.06.94-2.06 2.06-.94-2.06-.94-.94-2.06-.94 2.06-2.06.94zm-11 1L8.5 8.5l.94-2.06 2.06-.94-2.06-.94L8.5 2.5l-.94 2.06-2.06.94zm10 10l.94 2.06.94-2.06 2.06-.94-2.06-.94-.94-2.06-.94 2.06-2.06.94z\"/><path d=\"M17.41 7.96l-1.37-1.37c-.4-.4-.92-.59-1.43-.59-.52 0-1.04.2-1.43.59L10.3 9.45l-7.72 7.72c-.78.78-.78 2.05 0 2.83L4 21.41c.39.39.9.59 1.41.59.51 0 1.02-.2 1.41-.59l7.78-7.78 2.81-2.81c.8-.78.8-2.07 0-2.86zM5.41 20L4 18.59l7.72-7.72 1.47 1.35L5.41 20z\"/>\n",
       "  </svg>\n",
       "      </button>\n",
       "      \n",
       "  <style>\n",
       "    .colab-df-container {\n",
       "      display:flex;\n",
       "      flex-wrap:wrap;\n",
       "      gap: 12px;\n",
       "    }\n",
       "\n",
       "    .colab-df-convert {\n",
       "      background-color: #E8F0FE;\n",
       "      border: none;\n",
       "      border-radius: 50%;\n",
       "      cursor: pointer;\n",
       "      display: none;\n",
       "      fill: #1967D2;\n",
       "      height: 32px;\n",
       "      padding: 0 0 0 0;\n",
       "      width: 32px;\n",
       "    }\n",
       "\n",
       "    .colab-df-convert:hover {\n",
       "      background-color: #E2EBFA;\n",
       "      box-shadow: 0px 1px 2px rgba(60, 64, 67, 0.3), 0px 1px 3px 1px rgba(60, 64, 67, 0.15);\n",
       "      fill: #174EA6;\n",
       "    }\n",
       "\n",
       "    [theme=dark] .colab-df-convert {\n",
       "      background-color: #3B4455;\n",
       "      fill: #D2E3FC;\n",
       "    }\n",
       "\n",
       "    [theme=dark] .colab-df-convert:hover {\n",
       "      background-color: #434B5C;\n",
       "      box-shadow: 0px 1px 3px 1px rgba(0, 0, 0, 0.15);\n",
       "      filter: drop-shadow(0px 1px 2px rgba(0, 0, 0, 0.3));\n",
       "      fill: #FFFFFF;\n",
       "    }\n",
       "  </style>\n",
       "\n",
       "      <script>\n",
       "        const buttonEl =\n",
       "          document.querySelector('#df-12e0bdf3-e46c-4a90-aa10-bfcd0cb67fed button.colab-df-convert');\n",
       "        buttonEl.style.display =\n",
       "          google.colab.kernel.accessAllowed ? 'block' : 'none';\n",
       "\n",
       "        async function convertToInteractive(key) {\n",
       "          const element = document.querySelector('#df-12e0bdf3-e46c-4a90-aa10-bfcd0cb67fed');\n",
       "          const dataTable =\n",
       "            await google.colab.kernel.invokeFunction('convertToInteractive',\n",
       "                                                     [key], {});\n",
       "          if (!dataTable) return;\n",
       "\n",
       "          const docLinkHtml = 'Like what you see? Visit the ' +\n",
       "            '<a target=\"_blank\" href=https://colab.research.google.com/notebooks/data_table.ipynb>data table notebook</a>'\n",
       "            + ' to learn more about interactive tables.';\n",
       "          element.innerHTML = '';\n",
       "          dataTable['output_type'] = 'display_data';\n",
       "          await google.colab.output.renderOutput(dataTable, element);\n",
       "          const docLink = document.createElement('div');\n",
       "          docLink.innerHTML = docLinkHtml;\n",
       "          element.appendChild(docLink);\n",
       "        }\n",
       "      </script>\n",
       "    </div>\n",
       "  </div>\n",
       "  "
      ],
      "text/plain": [
       "              FTSE  EuroStoxx50   SP500    Gold  French-2Y  French-5Y  \\\n",
       "Dates                                                                   \n",
       "1989-02-01  2039.7       875.47  297.09  392.50     99.081     99.039   \n",
       "1989-02-02  2043.4       878.08  296.84  392.00     98.898     99.117   \n",
       "1989-02-03  2069.9       884.09  296.97  388.75     98.907     99.002   \n",
       "1989-02-06  2044.3       885.49  296.04  388.00     98.484     98.502   \n",
       "1989-02-07  2072.8       883.82  299.63  392.75     98.438     98.312   \n",
       "\n",
       "            French-10Y  French-30Y    US-2Y    US-5Y   US-10Y   US-30Y  \\\n",
       "Dates                                                                    \n",
       "1989-02-01      99.572     100.000  100.031  100.345  101.080  101.936   \n",
       "1989-02-02      99.278      99.692  100.000  100.314  101.017  101.905   \n",
       "1989-02-03      99.145      99.178   99.812  100.062  100.921  101.718   \n",
       "1989-02-06      98.510      97.739   99.812  100.062  100.794  101.468   \n",
       "1989-02-07      98.292      97.688   99.906  100.251  101.144  102.092   \n",
       "\n",
       "            Russel2000  EuroStox_Small  FTSE_Small  MSCI_EM     CRB  target  \n",
       "Dates                                                                        \n",
       "1989-02-01      154.38          117.50     1636.57  133.584  286.67       0  \n",
       "1989-02-02      154.94          117.69     1642.94  135.052  287.03       1  \n",
       "1989-02-03      155.69          118.62     1659.11  137.134  285.63       0  \n",
       "1989-02-06      155.58          118.89     1656.86  137.037  284.69       1  \n",
       "1989-02-07      156.84          118.28     1662.76  136.914  284.21       0  "
      ]
     },
     "execution_count": 68,
     "metadata": {},
     "output_type": "execute_result"
    }
   ],
   "source": [
    "# preparing our data\n",
    "raw_prices = pd.read_csv(\"https://open-data.s3.filebase.com/assetalloc.csv\", sep=';', parse_dates=True, index_col='Dates', dayfirst=True)\n",
    "df = raw_prices.sort_values(by='Dates')\n",
    "df[\"target\"] = df[\"SP500\"].pct_change().shift(-1)\n",
    "df[\"target\"] = np.where(df[\"target\"]>0,1,0)\n",
    "df.head()"
   ]
  },
  {
   "cell_type": "code",
   "execution_count": 23,
   "metadata": {
    "id": "v8EB6V-hCkn-"
   },
   "outputs": [],
   "source": []
  },
  {
   "cell_type": "markdown",
   "metadata": {
    "id": "8KjWNbXqfZju"
   },
   "source": [
    "### Train Test Split"
   ]
  },
  {
   "cell_type": "code",
   "execution_count": 69,
   "metadata": {
    "id": "IZjqGkgbfYIb"
   },
   "outputs": [],
   "source": [
    "from sklearn.model_selection import train_test_split\n",
    "y = df.pop(\"target\")\n",
    "X = df.copy()\n",
    "\n",
    "X_train = X[X.index.astype(str)<'2018-01-01'].copy()\n",
    "y_train = y[X_train.index].copy()\n",
    "X_test = X[~X.index.isin(X_train.index)].copy()\n",
    "y_test = y[X_test.index].copy()\n",
    "\n",
    "# X_train, X_test, y_train, y_test = train_test_split(X, y, test_size=0.2, shuffle=False)"
   ]
  },
  {
   "cell_type": "markdown",
   "metadata": {
    "id": "NcJAoNMSdLDr"
   },
   "source": [
    "### EDA"
   ]
  },
  {
   "cell_type": "code",
   "execution_count": 70,
   "metadata": {
    "colab": {
     "base_uri": "https://localhost:8080/",
     "height": 706
    },
    "id": "B2W5beO-OjCU",
    "outputId": "340513a1-2e8d-4a78-fd8e-4bdea2c90fb8"
   },
   "outputs": [
    {
     "data": {
      "text/plain": [
       "<matplotlib.axes._subplots.AxesSubplot at 0x7fd424e34f10>"
      ]
     },
     "execution_count": 70,
     "metadata": {},
     "output_type": "execute_result"
    },
    {
     "data": {
      "image/png": "[encoded data removed]",
      "text/plain": [
       "<Figure size 1800x720 with 2 Axes>"
      ]
     },
     "metadata": {
      "needs_background": "light"
     },
     "output_type": "display_data"
    }
   ],
   "source": [
    "# no missing value\n",
    "import missingno as ms\n",
    "ms.matrix(df)"
   ]
  },
  {
   "cell_type": "code",
   "execution_count": 71,
   "metadata": {
    "colab": {
     "base_uri": "https://localhost:8080/",
     "height": 879
    },
    "id": "VJqfS7cqdWHt",
    "outputId": "98924ac3-7a04-4a68-d05e-ca6d2f1dde4b"
   },
   "outputs": [
    {
     "data": {
      "image/png": "[encoded data removed]",
      "text/plain": [
       "<Figure size 1440x1080 with 20 Axes>"
      ]
     },
     "metadata": {
      "needs_background": "light"
     },
     "output_type": "display_data"
    }
   ],
   "source": [
    "# the return distributions seem to have high kurtosis\n",
    "df_return = df.pct_change().iloc[1:, :]\n",
    "df_return.hist(bins=50, figsize=(20,15))\n",
    "plt.show()"
   ]
  },
  {
   "cell_type": "code",
   "execution_count": 72,
   "metadata": {
    "colab": {
     "base_uri": "https://localhost:8080/",
     "height": 625
    },
    "id": "A3DICcO4d50c",
    "outputId": "5370eae2-ec06-4363-cdb5-a7304076dac6"
   },
   "outputs": [
    {
     "data": {
      "text/plain": [
       "<matplotlib.axes._subplots.AxesSubplot at 0x7fd423e4f050>"
      ]
     },
     "execution_count": 72,
     "metadata": {},
     "output_type": "execute_result"
    },
    {
     "data": {
      "image/png": "[encoded data removed]",
      "text/plain": [
       "<Figure size 1152x648 with 2 Axes>"
      ]
     },
     "metadata": {
      "needs_background": "light"
     },
     "output_type": "display_data"
    }
   ],
   "source": [
    "# The 4 French (US) treasuries return seem to have high positive correlations, we might need apply some dimension reduction techniques.\n",
    "plt.figure(figsize=(16,9))\n",
    "sns.heatmap(df_return.corr(), cmap=\"YlGnBu\",annot=True, fmt=\".2g\", linewidths = 1, square= True)"
   ]
  },
  {
   "cell_type": "markdown",
   "metadata": {
    "id": "8khPX0DTStdP"
   },
   "source": [
    "### Transforming"
   ]
  },
  {
   "cell_type": "markdown",
   "metadata": {
    "id": "y6ZyMnQ__B49"
   },
   "source": [
    "1. Refresh your mind on tranformation methods by going back to the material. I am simply providing 1 example here. \n",
    "1. Don't repeat my logarithmic return calculation, develop your own transformation (there are 1000s of types of transformations).\n",
    "1. In the example I provide, there is also an error that you have to fix. For example, one of the errors below is that you should actually use `np.log1p()`, but there is another one, so watch out! "
   ]
  },
  {
   "cell_type": "code",
   "execution_count": 24,
   "metadata": {
    "id": "4dwunC3GSrK2"
   },
   "outputs": [],
   "source": [
    "# Example Transforming (has errors) \n",
    "\n",
    "# Name: Logarithmic return of FTSE \n",
    "# Description: Developing the logarithmic return feature for use within linear models that make normality assumptions. \n",
    "\n",
    "'''\n",
    "Here we need to change np.log to np.log1p because sometimes the percentage change of FTSE price is very close to 0, leading to the logged value very close to negative infinity. Therefore, we need to apply log(1+x)\n",
    "to make sure the logged value is not extremely big.\n",
    "''' \n",
    "df[\"FTSE_log\"] = np.log1p(df[\"FTSE\"].pct_change()) \n",
    "\n",
    "'''\n",
    "Also, since pct_change() will make the value in the first row NaN, we need to delete the first row or replace it by a default value. Here I just choose 0 as the default logged value.\n",
    "'''\n",
    "df[\"FTSE_log\"][0] = 0.0"
   ]
  },
  {
   "cell_type": "code",
   "execution_count": null,
   "metadata": {
    "id": "8JvCCtvoT_2a"
   },
   "outputs": [],
   "source": [
    "## Transforming 1 (Add code below)\n",
    "'''\n",
    "Name: Discretized return of FTSE\n",
    "\n",
    "Description: Daily return of FTSE is discretized into 3 classes: 1 (returns above 1%), -1 (returns below -1%) and 0 (returns between -1% and 1%). \n",
    "                    This feature distinguishes large returns from small returns and treat equally to all returns in the same group. \n",
    "'''\n",
    "\n",
    "def discretize(r):\n",
    "    if r > 0.01: return 1;\n",
    "    elif r < -0.01: return -1;\n",
    "    else: return 0;\n",
    "\n",
    "df[\"FTSE_r_dis\"] = df[\"FTSE\"].pct_change()\n",
    "df = df.drop(df.index[0])  # delete the first row with NaN\n",
    "df[\"FTSE_r_dis\"] = df[\"FTSE_r_dis\"].map(discretize)\n",
    "\n"
   ]
  },
  {
   "cell_type": "code",
   "execution_count": null,
   "metadata": {
    "id": "FOCuKHEmT_wU"
   },
   "outputs": [],
   "source": [
    "## Transforming 2 (Add code below)\n",
    "\n",
    "'''\n",
    "Name: Scaled return of FTSE\n",
    "\n",
    "Description: Daily return of FTSE is scaled by robust scaler: r_scaled = (r – Q2)/(Q3 – Q1) to deal with potential outliers.\n",
    "'''\n",
    "\n",
    "from sklearn.preprocessing import RobustScaler\n",
    "scaler = RobustScaler()\n",
    "\n",
    "# we need to do the scaling to training set and test set seperately in order to avoid data leakage\n",
    "X_train.loc[:,(\"FTSE_r_scaled\")] = X_train[\"FTSE\"].copy().pct_change()\n",
    "X_train = X_train.drop(X_train.index[0])  # delete the first row with NaN\n",
    "y_train = y_train.drop(y_train.index[0]) # the size of y need to be aligned to x\n",
    "X_train[\"FTSE_r_scaled\"] = scaler.fit_transform(X_train[[\"FTSE_r_scaled\"]].copy())\n",
    "\n",
    "X_test[\"FTSE_r_scaled\"] = X_test[\"FTSE\"].copy().pct_change()\n",
    "X_test = X_test.drop(X_test.index[0])  # delete the first row with NaN\n",
    "y_test = y_test.drop(y_test.index[0]) # the size of y need to be aligned to x\n",
    "X_test[\"FTSE_r_scaled\"] = scaler.transform(X_test[[\"FTSE_r_scaled\"]].copy()) \n"
   ]
  },
  {
   "cell_type": "code",
   "execution_count": null,
   "metadata": {
    "id": "ghn81UtvPYmF"
   },
   "outputs": [],
   "source": [
    "## Transforming 3 (Add code below)\n",
    "'''\n",
    "Name: Gaussian-like return of FTSE\n",
    "\n",
    "Description: Daily returns of FTSE is power transformed by yeo-johnson method for use within linear models that make normality assumptions. \n",
    "'''\n",
    "\n",
    "\n",
    "from sklearn.preprocessing import PowerTransformer\n",
    "pt = PowerTransformer(method=\"yeo-johnson\")\n",
    "\n",
    "# we need to do the yeo-johnson transformation to training set and test set seperately in order to avoid data leakage\n",
    "X_train[\"FTSE_r_gauss\"] = X_train[\"FTSE\"].copy().pct_change()\n",
    "X_train = X_train.drop(X_train.index[0])  # delete the first row with NaN\n",
    "y_train = y_train.drop(y_train.index[0]) # the size of y need to be aligned to x\n",
    "X_train[\"FTSE_r_gauss\"] = pt.fit_transform(X_train[[\"FTSE_r_gauss\"]].copy())\n",
    "\n",
    "X_test[\"FTSE_r_gauss\"] = X_test[\"FTSE\"].copy().pct_change()\n",
    "X_test = X_test.drop(X_test.index[0])  # delete the first row with NaN\n",
    "y_test = y_test.drop(y_test.index[0]) # the size of y need to be aligned to x\n",
    "X_test[\"FTSE_r_gauss\"] = pt.transform(X_test[[\"FTSE_r_gauss\"]].copy())\n",
    "\n"
   ]
  },
  {
   "cell_type": "markdown",
   "metadata": {
    "id": "CiyIliYJTJRN"
   },
   "source": [
    "### Interacting"
   ]
  },
  {
   "cell_type": "markdown",
   "metadata": {
    "id": "XWuduQ-m_q7R"
   },
   "source": [
    "There are millions of possible interaction methods, be creative and come up with your own. For this assignment there is no 'right' feature engineering method, you simply develop one, and give it a name and a discreption."
   ]
  },
  {
   "cell_type": "code",
   "execution_count": 25,
   "metadata": {
    "id": "IN3tnhNUTDK3"
   },
   "outputs": [],
   "source": [
    "# Example Interacting (has errors) \n",
    "\n",
    "# Name: Ratio of Gold return to 10Y treasury\n",
    "# Desciption: Both gold and treasuries are safe-haven assets and descrepency in their ratio could be a sign of some marco-economic event.\n",
    "\n",
    "'''\n",
    "There should be a pct_change() function after df[\"Gold\"] because it makes no sense to divide gold price by 10y treasury return. \n",
    "'''\n",
    "def gold_to_yield(df):\n",
    "    teny_returns = df[\"US-10Y\"].copy().pct_change()\n",
    "    gold_returns = df[\"Gold\"].copy().pct_change()\n",
    "    # df = df.drop(df.index[0])\n",
    "    df[\"gold_r__div__teny_r\"] = gold_returns/teny_returns\n",
    "    return df\n",
    "\n",
    "X_train = gold_to_yield(X_train); X_test = gold_to_yield(X_test)\n",
    "\n",
    "'''\n",
    "Sometimes the teny_returns is very close to 0 so the ratio becomes NaN. We need to delete the rows with NaN values.\n",
    "'''\n",
    "X_train = X_train.dropna(axis=0,how='any'); X_test = X_test.dropna(axis=0,how='any')\n",
    "\n"
   ]
  },
  {
   "cell_type": "code",
   "execution_count": null,
   "metadata": {
    "id": "hwB5gEVjT1dz"
   },
   "outputs": [],
   "source": [
    "## Interacting 1 (Add code below)\n",
    "\n",
    "'''\n",
    "Name: Pair Trading Indicator\n",
    "\n",
    "Description: Absolute value of the difference of (FTSE price / SP500 price) can be regarded as a pair trading indicator. If the indicator is larger than some threshold (e.g. k*sigma), we short the pair;\n",
    "                    otherwise we long the pair.\n",
    "'''\n",
    "\n",
    "df[\"FTSE/SP500_diff_abs\"] = (df[\"FTSE\"]/df[\"SP500\"]).diff().abs()\n",
    "df = df.drop(df.index[0])  # delete the first row with NaN"
   ]
  },
  {
   "cell_type": "code",
   "execution_count": null,
   "metadata": {
    "id": "W-TYsjyUTuF2"
   },
   "outputs": [],
   "source": [
    "## Interacting 2 (Add code below)\n",
    "'''\n",
    "Name: Size premium return of FTSE (small minus big)\n",
    "\n",
    "Description: FTSE_small daily return minus FTSE return shows how small companies outperform the big ones. This indicator is useful in some linear regression models like Fama-French 3 Factor Model.\n",
    "\n",
    "'''\n",
    "\n",
    "df[\"FTSE_smb_r\"] = df[\"FTSE_Small\"].pct_change()-df[\"FTSE\"].pct_change()\n",
    "df = df.drop(df.index[0])  # delete the first row with NaN"
   ]
  },
  {
   "cell_type": "code",
   "execution_count": null,
   "metadata": {
    "id": "7iClfjUDPWu2"
   },
   "outputs": [],
   "source": [
    "## Interacting 3 (Add code below)\n",
    "\n",
    "'''\n",
    "Name: Europe and America benchmark return\n",
    "\n",
    "Description: This is a capitalisation-weighted average return of the 3 famous indices for companies listed on different exchanges in United States and Europe. This indicator can to some extent capture\n",
    "                    the global financial situation.\n",
    "\n",
    "'''\n",
    "#  calculate the capitalisation-weight for each index\n",
    "FTSE_w = 2.213/(2.213+36.7+3.846)\n",
    "SP500_w = 36.7/(2.213+36.7+3.846)\n",
    "EuroStoxx50_w = 3.846/(2.213+36.7+3.846)\n",
    "\n",
    "df[\"E&A_r\"] = FTSE_w * df[\"FTSE\"].pct_change() + SP500_w * df[\"SP500\"].pct_change() + EuroStoxx50_w * df[\"EuroStoxx50\"].pct_change()\n",
    "df = df.drop(df.index[0])  # delete the first row with NaN\n"
   ]
  },
  {
   "cell_type": "markdown",
   "metadata": {
    "id": "DwVvQ7NKdy6B"
   },
   "source": [
    "### Mapping"
   ]
  },
  {
   "cell_type": "markdown",
   "metadata": {
    "id": "m4Rc0htlDnrA"
   },
   "source": [
    "This one is slightly harder, you have to identify other  dimensionality reduction methods, there are many more than just PCA. Maybe you can also look at performing the decompositions just on a single asset classes, e.g., US-2Y, US-5Y, US-10Y, US-30Y is a fixed income asset class, but there are a few others in the dataset."
   ]
  },
  {
   "cell_type": "code",
   "execution_count": 29,
   "metadata": {
    "id": "IuR-aeFNd0LR"
   },
   "outputs": [],
   "source": [
    "# Example Mapping (has errors) \n",
    "\n",
    "# Name: First prinicipal component of all of the assets returns\n",
    "# Description:For stocks the first component resmbles the return of the market, for multiple asset classes it could resemble a 'universal' asset class\n",
    "\n",
    "\n",
    "from sklearn.decomposition import PCA\n",
    "from sklearn.preprocessing import StandardScaler\n",
    "\n",
    "def pca_first(X_train, X_test):\n",
    "    sc = StandardScaler()\n",
    "    # The PCA component is calculated based on assets returns so actually we should standardize the daily returns.\n",
    "    X_train_s = sc.fit_transform(X_train.pct_change().fillna(0))\n",
    "    X_test_s = sc.transform(X_test.pct_change().fillna(0))\n",
    "\n",
    "    # X_train_s and X_test_s are numpy.ndarray objects which does not have attribute 'fillna'. So we should replace the NaN value in this way.\n",
    "    X_train_s[np.isnan(X_train_s)] = 0\n",
    "    X_test_s[np.isnan(X_test_s)] = 0\n",
    "\n",
    "    pca = PCA(1)\n",
    "    X_train[\"first_prinicipal\"] = pca.fit_transform(X_train_s)\n",
    "    X_test[\"first_prinicipal\"] = pca.transform(X_test_s)\n",
    "    return X_train, X_test\n",
    "\n",
    "X_train, X_test = pca_first(X_train, X_test)\n",
    "\n",
    "# ValueError: Input contains infinity or a value too large for dtype('float64')."
   ]
  },
  {
   "cell_type": "code",
   "execution_count": null,
   "metadata": {
    "id": "6XAoLXiajaIO"
   },
   "outputs": [],
   "source": [
    "## Mapping 1 (Add code below)\n",
    "'''\n",
    "Name: LDA component of all of the assets returns\n",
    "\n",
    "Description: The LDA component of assets return differentiates the two directions of S&P500 in the targets. It can be a useful indicator for predicting the target value.\n",
    "\n",
    "'''\n",
    "\n",
    "from sklearn.discriminant_analysis import LinearDiscriminantAnalysis\n",
    "\n",
    "def lda(X_train, y_train, X_test):\n",
    "    clf = LinearDiscriminantAnalysis(n_components = 1)\n",
    "    X_train[\"lda_component\"] = clf.fit_transform(X_train.pct_change().fillna(0), y_train)\n",
    "    X_test[\"lda_component\"] = clf.transform(X_test.pct_change().fillna(0))\n",
    "    return X_train, X_test\n",
    "\n",
    "X_train, X_test = lda(X_train, y_train, X_test)\n"
   ]
  },
  {
   "cell_type": "code",
   "execution_count": 5,
   "metadata": {
    "id": "lUmRlTldjb63"
   },
   "outputs": [],
   "source": [
    "## Mapping 2 (Add code below)\n",
    "'''\n",
    "Name: 3-means clustering distances of all the assets returns\n",
    "\n",
    "Description: Distances to three different cluster centers implicitly classifies the all assets returns, useful for predicting price direction.\n",
    "'''\n",
    "\n",
    "from sklearn.cluster import KMeans\n",
    "\n",
    "def K_means(X_train, X_test):\n",
    "    kmeans = KMeans(n_clusters=3, random_state=0)\n",
    "    X_train[[\"kmeans_distance1\", \"kmeans_distance2\", \"kmeans_distance3\"]] = kmeans.fit_transform(X_train.pct_change().fillna(0))\n",
    "    X_test[[\"kmeans_distance1\", \"kmeans_distance2\", \"kmeans_distance3\"]] = kmeans.transform(X_test.pct_change().fillna(0))\n",
    "    return X_train, X_test\n",
    "\n",
    "X_train, X_test = K_means(X_train, X_test)"
   ]
  },
  {
   "cell_type": "code",
   "execution_count": 22,
   "metadata": {
    "colab": {
     "base_uri": "https://localhost:8080/"
    },
    "id": "eh6vU15ePTKm",
    "outputId": "06f052f4-71a6-4404-ffad-34c2b5f8965d"
   },
   "outputs": [
    {
     "name": "stderr",
     "output_type": "stream",
     "text": [
      "/usr/local/lib/python3.7/dist-packages/sklearn/decomposition/_nmf.py:294: FutureWarning: The 'init' value, when 'init=None' and n_components is less than n_samples and n_features, will be changed from 'nndsvd' to 'nndsvda' in 1.1 (renaming of 0.26).\n",
      "  FutureWarning,\n",
      "/usr/local/lib/python3.7/dist-packages/sklearn/decomposition/_nmf.py:1641: ConvergenceWarning: Maximum number of iterations 200 reached. Increase it to improve convergence.\n",
      "  ConvergenceWarning,\n"
     ]
    }
   ],
   "source": [
    "## Mapping 3 (Add code below)\n",
    "'''\n",
    "Name: NMF component of US Treasury prices\n",
    "\n",
    "Description: For US Treasury classes the NMF component represents an overall US fixed income assets price indicator.\n",
    "'''\n",
    "\n",
    "from sklearn.preprocessing import MinMaxScaler\n",
    "from sklearn.decomposition import NMF\n",
    "\n",
    "def nmf(X_train, X_test):\n",
    "    sc = MinMaxScaler(clip = True)\n",
    "    X_train_s = sc.fit_transform(X_train[[\"US-2Y\", \"US-5Y\", \"US-10Y\", \"US-30Y\"]])\n",
    "    X_test_s = sc.transform(X_test[[\"US-2Y\", \"US-5Y\", \"US-10Y\", \"US-30Y\"]])\n",
    "\n",
    "    model = NMF(n_components=1, random_state=0)\n",
    "    X_train[\"UStreasury_NMF\"] = model.fit_transform(X_train_s)\n",
    "    X_test[\"UStreasury_NMF\"] = model.transform(X_test_s)\n",
    "    return X_train, X_test\n",
    "\n",
    "X_train, X_test = nmf(X_train, X_test)\n"
   ]
  },
  {
   "cell_type": "markdown",
   "metadata": {
    "id": "KtRBRXeRd_ad"
   },
   "source": [
    "Extracting"
   ]
  },
  {
   "cell_type": "code",
   "execution_count": 33,
   "metadata": {
    "colab": {
     "base_uri": "https://localhost:8080/",
     "height": 52
    },
    "id": "lHpV2LxIeA9i",
    "outputId": "1a881310-f08d-416b-b25a-b76864124d95"
   },
   "outputs": [
    {
     "data": {
      "application/vnd.google.colaboratory.intrinsic+json": {
       "type": "string"
      },
      "text/plain": [
       "'\\nNote that the test dataset has fewer than 365 rows so if we delete the rows containing NaN, no data is left in the testset!\\nIn this case, maybe we need to resplit the train and test data and make sure the size of test data is at least larger than 365.\\n\\nBy the way, I think it makes more sense that we use the number of trading days (252) instead of calender days (365) when calculating the annualized volatility.\\n'"
      ]
     },
     "execution_count": 33,
     "metadata": {},
     "output_type": "execute_result"
    }
   ],
   "source": [
    "# Example Extracting (has errors) \n",
    "# Name: Annualized volatility in returns\n",
    "# Description: We are developing an annualized volatility measure for all asset returns, which is a good measure of market turbulence\n",
    "\n",
    "def vola(df):\n",
    "    volatility = df.pct_change().rolling(window=365).std()*(365**0.5) #this line is correct\n",
    "    new_names = [(i,i+'_vol') for i in df.columns.values]\n",
    "    volatility.rename(columns = dict(new_names), inplace=True)\n",
    "    df = pd.concat((df, volatility), axis=1)\n",
    "    return df\n",
    "\n",
    "X_train = vola(X_train); X_test = vola(X_test)\n",
    "\n",
    "'''\n",
    "We need to delete the first 365 rows of training data and test data which has NaN values.\n",
    "'''\n",
    "\n",
    "X_train = X_train.dropna(axis=0,how='any'); X_test = X_test.dropna(axis=0,how='any')\n",
    "\n",
    "'''\n",
    "Note that the test dataset has fewer than 365 rows so if we delete the rows containing NaN, no data is left in the testset!\n",
    "In this case, maybe we need to resplit the train and test data and make sure the size of test data is at least larger than 365.\n",
    "\n",
    "By the way, I think it makes more sense that we use the number of trading days (252) instead of calender days (365) when calculating the annualized volatility.\n",
    "'''"
   ]
  },
  {
   "cell_type": "code",
   "execution_count": null,
   "metadata": {
    "id": "P165fWF9PNdx"
   },
   "outputs": [],
   "source": [
    "## Extracting 1 (Add code below)\n",
    "'''\n",
    "Name: 5-lagged simple moving average price of FTSE\n",
    "\n",
    "Description: Simple moving average price is a widely-used technical indicator showing the short term and long term trends.\n",
    "'''\n",
    "X_train[\"FTSE_sma_lag5\"] = X_train[\"FTSE\"].rolling(window=5).mean()\n",
    "X_train = X_train.drop(X_train.index[:4])  # delete the first 4 rows with NaN\n",
    "y_train = y_train.drop(y_train.index[:4]) # the size of y need to be aligned to x\n",
    "\n",
    "X_test[\"FTSE_sma_lag5\"] = X_test[\"FTSE\"].rolling(window=5).mean()\n",
    "X_test = X_test.drop(X_test.index[:4])  # delete the first 4 rows with NaN\n",
    "y_test = y_test.drop(y_test.index[:4]) # the size of y need to be aligned to x\n"
   ]
  },
  {
   "cell_type": "code",
   "execution_count": null,
   "metadata": {
    "id": "GODtIouyPQK-"
   },
   "outputs": [],
   "source": [
    "## Extracting 2 (Add code below)\n",
    "'''\n",
    "Name: Annualized Sharpe Ratio (assume risk-free rate r = 0)\n",
    "\n",
    "Description: Sharpe ratio is a risk-adjusted measure of an investment. It helps us understand the return of an investment compared to its risk. Note here we assume r = 0.\n",
    "\n",
    "'''\n",
    "\n",
    "def sharpe(df):\n",
    "    volatility = df.pct_change().rolling(window=252).std()*(252**0.5) \n",
    "    risk_premium = df.pct_change().rolling(window=252).sum()\n",
    "    sharpe_ratio = risk_premium/volatility\n",
    "    new_names = [(i,i+'_asr') for i in df.columns.values]\n",
    "    sharpe_ratio.rename(columns = dict(new_names), inplace=True)\n",
    "    df = pd.concat((df, sharpe_ratio), axis=1)\n",
    "    return df\n",
    "\n",
    "X_train = sharpe(X_train); X_test = sharpe(X_test)\n",
    "X_train = X_train.drop(X_train.index[:252]); X_test = X_test.drop(X_test.index[:252]) # delete the first 252 rows with NaN\n",
    "y_train = y_train.drop(y_train.index[:252]); y_test = y_test.drop(y_test.index[:252]) # the size of y need to be aligned to x\n",
    "\n",
    "\n",
    "\n"
   ]
  },
  {
   "cell_type": "code",
   "execution_count": null,
   "metadata": {
    "id": "Fi2MaoAcPRFH"
   },
   "outputs": [],
   "source": [
    "## Extracting 3 (Add code below)\n",
    "\n",
    "'''\n",
    "Name: 20-day ratio of upward move to downward move\n",
    "\n",
    "Description: This indicator is calculated by dividing the no. of days with price rise by no. of days with price fall during the previous 20 days. It is another way to reveal the short term trend and oscillation.\n",
    "\n",
    "'''\n",
    "def up_to_down_ratio(df):\n",
    "    up = df.diff().rolling(window=20).apply(lambda s: sum(s > 0))\n",
    "    down = 20 - up\n",
    "    ratio = up / down\n",
    "    new_names = [(i,i+'_UDratio') for i in df.columns.values]\n",
    "    ratio.rename(columns = dict(new_names), inplace=True)\n",
    "    df = pd.concat((df, ratio), axis=1)\n",
    "    return df\n",
    "\n",
    "X_train = up_to_down_ratio(X_train); X_test = up_to_down_ratio(X_test)\n",
    "X_train = X_train.drop(X_train.index[:20]); X_test = X_test.drop(X_test.index[:20]) # delete the first 20 rows with NaN\n",
    "y_train = y_train.drop(y_train.index[:20]); y_test = y_test.drop(y_test.index[:20]) # the size of y need to be aligned to x\n",
    "\n",
    "\n"
   ]
  },
  {
   "cell_type": "code",
   "execution_count": null,
   "metadata": {
    "id": "9bgtca-bYIgN"
   },
   "outputs": [],
   "source": []
  },
  {
   "cell_type": "markdown",
   "metadata": {
    "id": "WhDvqiPnHccB"
   },
   "source": [
    "## Deep Learning Binary Classification"
   ]
  },
  {
   "cell_type": "markdown",
   "metadata": {
    "id": "JoNmgbgWHjGs"
   },
   "source": [
    "* For the deep learning model you can perform new data preprocessing methods and new feature engineering that are better suited to neural networks. You can also use all or some of the features you developed above (most features work in deep learning models as long as they are normalized).\n",
    "* It is very hard to predict the stock price, so in my grading I will look more at the quality of the model you process (e.g., that there is no data leakage, that you performed some hyperparameter tuning).\n",
    "* Make sure that you switch your GPU on, you have access to it on Colab. The training stage also takes long, you might want to use a smaller amount of data, or fewer epochs at first to speed up your development process.\n",
    "* After your training is done, you don't have to save your model, but you do have to print the performance of your model. You can report two metrics the ROC(AUC) and the Accuracy against the test set. \n",
    "* Also remember to set the random seed (random state) so that when I run your software, I get similar results (the results doesn't have to be exactely the same). \n",
    "* You can choose any type of deep learning archetecture, e.g., LSTM, GRU, CNN, it is up to you.\n",
    "* Remember that this section is less that 25% of the grade, so don't waste your time here. \n",
    "* And lastly, remember this is the stock market, so it is **difficult** to have an accuracy above 50%, good luck!"
   ]
  },
  {
   "cell_type": "code",
   "execution_count": 105,
   "metadata": {
    "colab": {
     "base_uri": "https://localhost:8080/",
     "height": 406
    },
    "id": "Rzk2wizgHwlP",
    "outputId": "4d115c51-27c8-4b4c-9bb3-55fe20c65dc9"
   },
   "outputs": [
    {
     "data": {
      "text/html": [
       "\n",
       "  <div id=\"df-c2aed2bf-01ba-4ec2-9074-030ee0b6e746\">\n",
       "    <div class=\"colab-df-container\">\n",
       "      <div>\n",
       "<style scoped>\n",
       "    .dataframe tbody tr th:only-of-type {\n",
       "        vertical-align: middle;\n",
       "    }\n",
       "\n",
       "    .dataframe tbody tr th {\n",
       "        vertical-align: top;\n",
       "    }\n",
       "\n",
       "    .dataframe thead th {\n",
       "        text-align: right;\n",
       "    }\n",
       "</style>\n",
       "<table border=\"1\" class=\"dataframe\">\n",
       "  <thead>\n",
       "    <tr style=\"text-align: right;\">\n",
       "      <th></th>\n",
       "      <th>FTSE</th>\n",
       "      <th>EuroStoxx50</th>\n",
       "      <th>SP500</th>\n",
       "      <th>Gold</th>\n",
       "      <th>French-2Y</th>\n",
       "      <th>French-5Y</th>\n",
       "      <th>French-10Y</th>\n",
       "      <th>French-30Y</th>\n",
       "      <th>US-2Y</th>\n",
       "      <th>US-5Y</th>\n",
       "      <th>US-10Y</th>\n",
       "      <th>US-30Y</th>\n",
       "      <th>Russel2000</th>\n",
       "      <th>EuroStox_Small</th>\n",
       "      <th>FTSE_Small</th>\n",
       "      <th>MSCI_EM</th>\n",
       "      <th>CRB</th>\n",
       "      <th>target</th>\n",
       "    </tr>\n",
       "    <tr>\n",
       "      <th>Dates</th>\n",
       "      <th></th>\n",
       "      <th></th>\n",
       "      <th></th>\n",
       "      <th></th>\n",
       "      <th></th>\n",
       "      <th></th>\n",
       "      <th></th>\n",
       "      <th></th>\n",
       "      <th></th>\n",
       "      <th></th>\n",
       "      <th></th>\n",
       "      <th></th>\n",
       "      <th></th>\n",
       "      <th></th>\n",
       "      <th></th>\n",
       "      <th></th>\n",
       "      <th></th>\n",
       "      <th></th>\n",
       "    </tr>\n",
       "  </thead>\n",
       "  <tbody>\n",
       "    <tr>\n",
       "      <th>1989-02-02</th>\n",
       "      <td>0.001814</td>\n",
       "      <td>0.002981</td>\n",
       "      <td>-0.000841</td>\n",
       "      <td>-0.001274</td>\n",
       "      <td>-0.001847</td>\n",
       "      <td>0.000788</td>\n",
       "      <td>-0.002953</td>\n",
       "      <td>-0.003080</td>\n",
       "      <td>-0.000310</td>\n",
       "      <td>-0.000309</td>\n",
       "      <td>-0.000623</td>\n",
       "      <td>-0.000304</td>\n",
       "      <td>0.003627</td>\n",
       "      <td>0.001617</td>\n",
       "      <td>0.003892</td>\n",
       "      <td>0.010989</td>\n",
       "      <td>0.001256</td>\n",
       "      <td>1</td>\n",
       "    </tr>\n",
       "    <tr>\n",
       "      <th>1989-02-03</th>\n",
       "      <td>0.012969</td>\n",
       "      <td>0.006844</td>\n",
       "      <td>0.000438</td>\n",
       "      <td>-0.008291</td>\n",
       "      <td>0.000091</td>\n",
       "      <td>-0.001160</td>\n",
       "      <td>-0.001340</td>\n",
       "      <td>-0.005156</td>\n",
       "      <td>-0.001880</td>\n",
       "      <td>-0.002512</td>\n",
       "      <td>-0.000950</td>\n",
       "      <td>-0.001835</td>\n",
       "      <td>0.004841</td>\n",
       "      <td>0.007902</td>\n",
       "      <td>0.009842</td>\n",
       "      <td>0.015416</td>\n",
       "      <td>-0.004878</td>\n",
       "      <td>0</td>\n",
       "    </tr>\n",
       "    <tr>\n",
       "      <th>1989-02-06</th>\n",
       "      <td>-0.012368</td>\n",
       "      <td>0.001584</td>\n",
       "      <td>-0.003132</td>\n",
       "      <td>-0.001929</td>\n",
       "      <td>-0.004277</td>\n",
       "      <td>-0.005050</td>\n",
       "      <td>-0.006405</td>\n",
       "      <td>-0.014509</td>\n",
       "      <td>0.000000</td>\n",
       "      <td>0.000000</td>\n",
       "      <td>-0.001258</td>\n",
       "      <td>-0.002458</td>\n",
       "      <td>-0.000707</td>\n",
       "      <td>0.002276</td>\n",
       "      <td>-0.001356</td>\n",
       "      <td>-0.000707</td>\n",
       "      <td>-0.003291</td>\n",
       "      <td>1</td>\n",
       "    </tr>\n",
       "    <tr>\n",
       "      <th>1989-02-07</th>\n",
       "      <td>0.013941</td>\n",
       "      <td>-0.001886</td>\n",
       "      <td>0.012127</td>\n",
       "      <td>0.012242</td>\n",
       "      <td>-0.000467</td>\n",
       "      <td>-0.001929</td>\n",
       "      <td>-0.002213</td>\n",
       "      <td>-0.000522</td>\n",
       "      <td>0.000942</td>\n",
       "      <td>0.001889</td>\n",
       "      <td>0.003472</td>\n",
       "      <td>0.006150</td>\n",
       "      <td>0.008099</td>\n",
       "      <td>-0.005131</td>\n",
       "      <td>0.003561</td>\n",
       "      <td>-0.000898</td>\n",
       "      <td>-0.001686</td>\n",
       "      <td>0</td>\n",
       "    </tr>\n",
       "    <tr>\n",
       "      <th>1989-02-08</th>\n",
       "      <td>0.011289</td>\n",
       "      <td>0.009040</td>\n",
       "      <td>-0.003271</td>\n",
       "      <td>-0.005729</td>\n",
       "      <td>0.001219</td>\n",
       "      <td>0.003519</td>\n",
       "      <td>0.004721</td>\n",
       "      <td>0.002099</td>\n",
       "      <td>-0.000941</td>\n",
       "      <td>-0.000948</td>\n",
       "      <td>-0.001266</td>\n",
       "      <td>-0.004280</td>\n",
       "      <td>0.001020</td>\n",
       "      <td>0.003805</td>\n",
       "      <td>0.011481</td>\n",
       "      <td>0.000825</td>\n",
       "      <td>0.000598</td>\n",
       "      <td>0</td>\n",
       "    </tr>\n",
       "  </tbody>\n",
       "</table>\n",
       "</div>\n",
       "      <button class=\"colab-df-convert\" onclick=\"convertToInteractive('df-c2aed2bf-01ba-4ec2-9074-030ee0b6e746')\"\n",
       "              title=\"Convert this dataframe to an interactive table.\"\n",
       "              style=\"display:none;\">\n",
       "        \n",
       "  <svg xmlns=\"http://www.w3.org/2000/svg\" height=\"24px\"viewBox=\"0 0 24 24\"\n",
       "       width=\"24px\">\n",
       "    <path d=\"M0 0h24v24H0V0z\" fill=\"none\"/>\n",
       "    <path d=\"M18.56 5.44l.94 2.06.94-2.06 2.06-.94-2.06-.94-.94-2.06-.94 2.06-2.06.94zm-11 1L8.5 8.5l.94-2.06 2.06-.94-2.06-.94L8.5 2.5l-.94 2.06-2.06.94zm10 10l.94 2.06.94-2.06 2.06-.94-2.06-.94-.94-2.06-.94 2.06-2.06.94z\"/><path d=\"M17.41 7.96l-1.37-1.37c-.4-.4-.92-.59-1.43-.59-.52 0-1.04.2-1.43.59L10.3 9.45l-7.72 7.72c-.78.78-.78 2.05 0 2.83L4 21.41c.39.39.9.59 1.41.59.51 0 1.02-.2 1.41-.59l7.78-7.78 2.81-2.81c.8-.78.8-2.07 0-2.86zM5.41 20L4 18.59l7.72-7.72 1.47 1.35L5.41 20z\"/>\n",
       "  </svg>\n",
       "      </button>\n",
       "      \n",
       "  <style>\n",
       "    .colab-df-container {\n",
       "      display:flex;\n",
       "      flex-wrap:wrap;\n",
       "      gap: 12px;\n",
       "    }\n",
       "\n",
       "    .colab-df-convert {\n",
       "      background-color: #E8F0FE;\n",
       "      border: none;\n",
       "      border-radius: 50%;\n",
       "      cursor: pointer;\n",
       "      display: none;\n",
       "      fill: #1967D2;\n",
       "      height: 32px;\n",
       "      padding: 0 0 0 0;\n",
       "      width: 32px;\n",
       "    }\n",
       "\n",
       "    .colab-df-convert:hover {\n",
       "      background-color: #E2EBFA;\n",
       "      box-shadow: 0px 1px 2px rgba(60, 64, 67, 0.3), 0px 1px 3px 1px rgba(60, 64, 67, 0.15);\n",
       "      fill: #174EA6;\n",
       "    }\n",
       "\n",
       "    [theme=dark] .colab-df-convert {\n",
       "      background-color: #3B4455;\n",
       "      fill: #D2E3FC;\n",
       "    }\n",
       "\n",
       "    [theme=dark] .colab-df-convert:hover {\n",
       "      background-color: #434B5C;\n",
       "      box-shadow: 0px 1px 3px 1px rgba(0, 0, 0, 0.15);\n",
       "      filter: drop-shadow(0px 1px 2px rgba(0, 0, 0, 0.3));\n",
       "      fill: #FFFFFF;\n",
       "    }\n",
       "  </style>\n",
       "\n",
       "      <script>\n",
       "        const buttonEl =\n",
       "          document.querySelector('#df-c2aed2bf-01ba-4ec2-9074-030ee0b6e746 button.colab-df-convert');\n",
       "        buttonEl.style.display =\n",
       "          google.colab.kernel.accessAllowed ? 'block' : 'none';\n",
       "\n",
       "        async function convertToInteractive(key) {\n",
       "          const element = document.querySelector('#df-c2aed2bf-01ba-4ec2-9074-030ee0b6e746');\n",
       "          const dataTable =\n",
       "            await google.colab.kernel.invokeFunction('convertToInteractive',\n",
       "                                                     [key], {});\n",
       "          if (!dataTable) return;\n",
       "\n",
       "          const docLinkHtml = 'Like what you see? Visit the ' +\n",
       "            '<a target=\"_blank\" href=https://colab.research.google.com/notebooks/data_table.ipynb>data table notebook</a>'\n",
       "            + ' to learn more about interactive tables.';\n",
       "          element.innerHTML = '';\n",
       "          dataTable['output_type'] = 'display_data';\n",
       "          await google.colab.output.renderOutput(dataTable, element);\n",
       "          const docLink = document.createElement('div');\n",
       "          docLink.innerHTML = docLinkHtml;\n",
       "          element.appendChild(docLink);\n",
       "        }\n",
       "      </script>\n",
       "    </div>\n",
       "  </div>\n",
       "  "
      ],
      "text/plain": [
       "                FTSE  EuroStoxx50     SP500      Gold  French-2Y  French-5Y  \\\n",
       "Dates                                                                         \n",
       "1989-02-02  0.001814     0.002981 -0.000841 -0.001274  -0.001847   0.000788   \n",
       "1989-02-03  0.012969     0.006844  0.000438 -0.008291   0.000091  -0.001160   \n",
       "1989-02-06 -0.012368     0.001584 -0.003132 -0.001929  -0.004277  -0.005050   \n",
       "1989-02-07  0.013941    -0.001886  0.012127  0.012242  -0.000467  -0.001929   \n",
       "1989-02-08  0.011289     0.009040 -0.003271 -0.005729   0.001219   0.003519   \n",
       "\n",
       "            French-10Y  French-30Y     US-2Y     US-5Y    US-10Y    US-30Y  \\\n",
       "Dates                                                                        \n",
       "1989-02-02   -0.002953   -0.003080 -0.000310 -0.000309 -0.000623 -0.000304   \n",
       "1989-02-03   -0.001340   -0.005156 -0.001880 -0.002512 -0.000950 -0.001835   \n",
       "1989-02-06   -0.006405   -0.014509  0.000000  0.000000 -0.001258 -0.002458   \n",
       "1989-02-07   -0.002213   -0.000522  0.000942  0.001889  0.003472  0.006150   \n",
       "1989-02-08    0.004721    0.002099 -0.000941 -0.000948 -0.001266 -0.004280   \n",
       "\n",
       "            Russel2000  EuroStox_Small  FTSE_Small   MSCI_EM       CRB  target  \n",
       "Dates                                                                           \n",
       "1989-02-02    0.003627        0.001617    0.003892  0.010989  0.001256       1  \n",
       "1989-02-03    0.004841        0.007902    0.009842  0.015416 -0.004878       0  \n",
       "1989-02-06   -0.000707        0.002276   -0.001356 -0.000707 -0.003291       1  \n",
       "1989-02-07    0.008099       -0.005131    0.003561 -0.000898 -0.001686       0  \n",
       "1989-02-08    0.001020        0.003805    0.011481  0.000825  0.000598       0  "
      ]
     },
     "execution_count": 105,
     "metadata": {},
     "output_type": "execute_result"
    }
   ],
   "source": [
    "## Implement Here\n",
    "# preparing our data\n",
    "raw_prices = pd.read_csv(\"https://open-data.s3.filebase.com/assetalloc.csv\", sep=';', parse_dates=True, index_col='Dates', dayfirst=True)\n",
    "df = raw_prices.sort_values(by='Dates')\n",
    "df = df.pct_change().iloc[1:, :]  # we convert the price data into return data first!!!\n",
    "df[\"target\"] = df[\"SP500\"].shift(-1)\n",
    "df[\"target\"] = np.where(df[\"target\"]>0,1,0)\n",
    "df.head()"
   ]
  },
  {
   "cell_type": "code",
   "execution_count": 106,
   "metadata": {
    "id": "fzimYMHYY5bd"
   },
   "outputs": [],
   "source": [
    "# train, validation, test split\n",
    "from sklearn.model_selection import train_test_split\n",
    "y = df.pop(\"target\")\n",
    "X = df.copy()\n",
    "\n",
    "X_train = X[X.index.astype(str)<'2015-01-01'].copy()\n",
    "y_train = y[X_train.index].copy()\n",
    "X_validation = X[(X.index.astype(str) >='2015-01-01') & (X.index.astype(str) <'2018-01-01')].copy() # I split a validation dataset here to do the hyperparameter selecting\n",
    "y_validation = y[X_validation.index].copy()\n",
    "X_test = X[X.index.astype(str)>='2018-01-01'].copy()\n",
    "y_test = y[X_test.index].copy()"
   ]
  },
  {
   "cell_type": "code",
   "execution_count": 107,
   "metadata": {
    "id": "kx326q8zs3Iq"
   },
   "outputs": [],
   "source": [
    "# normalization\n",
    "from sklearn.preprocessing import StandardScaler\n",
    "\n",
    "def standardize(X_train, X_valid, X_test):\n",
    "    sc = StandardScaler()\n",
    "\n",
    "    X_train_s = sc.fit_transform(X_train)\n",
    "    X_valid_s = sc.transform(X_valid)\n",
    "    X_test_s = sc.transform(X_test)\n",
    "\n",
    "    return X_train, X_valid, X_test\n",
    "\n",
    "X_train, X_validation, X_test = standardize(X_train, X_validation, X_test)"
   ]
  },
  {
   "cell_type": "markdown",
   "metadata": {
    "id": "7TLcIPzp7Nm1"
   },
   "source": [
    "## Deep Q-network model"
   ]
  },
  {
   "cell_type": "markdown",
   "metadata": {
    "id": "7krBafoyQd9Y"
   },
   "source": [
    "I applied the Deep Q-network (DQN) model that I introduced in my blog post: https://medium.com/@murrawang/deep-q-network-and-its-application-in-algorithmic-trading-16440a112e04.\n",
    "DQN model can used to predict the price direction because actions (short or long) the agent chooses give indications about if next day's return is positive or negative, so we can regard the actions chosed by the agent as our predictions."
   ]
  },
  {
   "cell_type": "markdown",
   "metadata": {
    "id": "QOaP11ZgSFiX"
   },
   "source": [
    "Here I made some modifications on the original model in the post. I reduced the action space from 3 (short, neutral, long) to 2 (short, long) for direction prediction. I also changed the state space from 1 time sries returns to multiple time series returns (17 in total). Therefore, the state space is actually a 2D matrix (k_value * num_of_assets). I flattened the matrix to 1D before feeding it into the MLP network."
   ]
  },
  {
   "cell_type": "code",
   "execution_count": 108,
   "metadata": {
    "id": "cLCqi__pZfQt"
   },
   "outputs": [],
   "source": [
    "import torch\n",
    "import torch.nn as nn\n",
    "import torch.nn.functional as F\n",
    "import torch.optim as optim\n",
    "import random\n",
    "import math\n",
    "import numpy as np\n",
    "\n",
    "\n",
    "class MLP(nn.Module):\n",
    "    def __init__(self, state_dim, action_dim, hidden_dim=128):\n",
    "        super(MLP, self).__init__()\n",
    "        self.fc1 = nn.Linear(state_dim, hidden_dim)  # input layer\n",
    "        self.fc2 = nn.Linear(hidden_dim, hidden_dim)  # hidden layer\n",
    "        self.fc3 = nn.Linear(hidden_dim, action_dim)  # output layer\n",
    "\n",
    "    def forward(self, x):\n",
    "        # activation function\n",
    "        x = F.relu(self.fc1(x))\n",
    "        x = F.relu(self.fc2(x))\n",
    "        return self.fc3(x)\n",
    "\n",
    "\n",
    "class ReplayBuffer:\n",
    "    def __init__(self, capacity):\n",
    "        self.capacity = capacity  # capacity of buffer\n",
    "        self.buffer = []  # replay buffer\n",
    "        self.position = 0\n",
    "\n",
    "    def push(self, state, action, reward, next_state, done):\n",
    "        ''' replay buffer is a queue (LIFO)\n",
    "        '''\n",
    "        if len(self.buffer) < self.capacity:\n",
    "            self.buffer.append(None)\n",
    "        self.buffer[self.position] = (state, action, reward, next_state, done)\n",
    "        self.position = (self.position + 1) % self.capacity\n",
    "\n",
    "    def sample(self, batch_size):\n",
    "        batch = random.sample(self.buffer, batch_size)\n",
    "        state, action, reward, next_state, done = zip(*batch)\n",
    "        return state, action, reward, next_state, done\n",
    "\n",
    "    def __len__(self):\n",
    "        return len(self.buffer)\n",
    "\n",
    "\n",
    "class DQN:\n",
    "    def __init__(self, state_dim, action_dim, cfg):\n",
    "\n",
    "        self.action_dim = action_dim\n",
    "        self.device = cfg.device  # cpu or gpu\n",
    "        self.gamma = cfg.gamma  # discount factor\n",
    "        self.frame_idx = 0  # attenuation\n",
    "        self.epsilon = lambda frame_idx: cfg.epsilon_end + \\\n",
    "                                         (cfg.epsilon_start - cfg.epsilon_end) * \\\n",
    "                                         math.exp(-1. * frame_idx / cfg.epsilon_decay)\n",
    "        self.batch_size = cfg.batch_size\n",
    "        self.policy_net = MLP(state_dim, action_dim, hidden_dim=cfg.hidden_dim).to(self.device)\n",
    "        self.target_net = MLP(state_dim, action_dim, hidden_dim=cfg.hidden_dim).to(self.device)\n",
    "        for target_param, param in zip(self.target_net.parameters(),\n",
    "                                       self.policy_net.parameters()):  # copy parameters to target net\n",
    "            target_param.data.copy_(param.data)\n",
    "        self.optimizer = optim.Adam(self.policy_net.parameters(), lr=cfg.lr) # optimizer\n",
    "        self.memory = ReplayBuffer(cfg.memory_capacity)  # experience replay\n",
    "\n",
    "    def get_policy_net(self):\n",
    "        return self.policy_net\n",
    "    \n",
    "    def set_policy_net(self, net):\n",
    "        self.policy_net = net\n",
    "\n",
    "    def choose_action(self, state):\n",
    "        self.frame_idx += 1\n",
    "        if random.random() > self.epsilon(self.frame_idx):\n",
    "            with torch.no_grad():\n",
    "                state = torch.tensor([state], device=self.device, dtype=torch.float32)\n",
    "                q_values = self.policy_net(state)\n",
    "                action = q_values.max(1)[1].item()  # choose the action with maximum q-value\n",
    "        else:\n",
    "            action = random.randrange(self.action_dim)\n",
    "        return action\n",
    "\n",
    "    def update(self):\n",
    "        if len(self.memory) < self.batch_size:\n",
    "            return\n",
    "        state_batch, action_batch, reward_batch, next_state_batch, done_batch = self.memory.sample(\n",
    "            self.batch_size)\n",
    "        # transfer to tensor\n",
    "        state_batch = torch.tensor(state_batch, device=self.device, dtype=torch.float)\n",
    "        action_batch = torch.tensor(action_batch, device=self.device).unsqueeze(1)\n",
    "        reward_batch = torch.tensor(reward_batch, device=self.device, dtype=torch.float)\n",
    "        next_state_batch = torch.tensor(next_state_batch, device=self.device, dtype=torch.float)\n",
    "        done_batch = torch.tensor(np.float32(done_batch), device=self.device)\n",
    "        q_values = self.policy_net(state_batch).gather(dim=1, index=action_batch)\n",
    "        next_q_values = self.target_net(next_state_batch).max(1)[0].detach()\n",
    "        # calculate the expected q-value, for final state, done_batch[0]=1 and the corresponding\n",
    "        # expected_q_value equals to reward\n",
    "        expected_q_values = reward_batch + self.gamma * next_q_values * (1 - done_batch)\n",
    "        loss = nn.MSELoss()(q_values, expected_q_values.unsqueeze(1))\n",
    "        # update the network\n",
    "        self.optimizer.zero_grad()\n",
    "        loss.backward()\n",
    "        for param in self.policy_net.parameters():  # avoid gradient explosion by using clip\n",
    "            param.grad.data.clamp_(-1, 1)\n",
    "        self.optimizer.step()"
   ]
  },
  {
   "cell_type": "markdown",
   "metadata": {
    "id": "Skmx7vI19ACy"
   },
   "source": [
    "## Trading Environment"
   ]
  },
  {
   "cell_type": "code",
   "execution_count": 109,
   "metadata": {
    "id": "Ws2qr4IhYioT"
   },
   "outputs": [],
   "source": [
    "import random\n",
    "\n",
    "class TradingSystem_v0:\n",
    "    def __init__(self, returns_data, k_value):\n",
    "        self.data = returns_data.copy()\n",
    "        self.k = k_value\n",
    "        self.r_ts = returns_data[\"SP500\"].copy().to_numpy()\n",
    "        self.total_steps = returns_data.shape[0] - self.k\n",
    "        self.current_step = 0\n",
    "        self.initial_state = returns_data.iloc[:self.k, :].copy().to_numpy().flatten()  # we need to flatten the dataframe here as input of the MLP\n",
    "        self.state = np.copy(self.initial_state)\n",
    "        self.reward = 0.0\n",
    "        self.is_terminal = False\n",
    "\n",
    "    # write step function that returns obs(next state), reward, is_done\n",
    "    def step(self, action):\n",
    "        self.current_step += 1\n",
    "        if self.current_step == self.total_steps:\n",
    "            self.is_terminal = True\n",
    "        if action == 0:\n",
    "            self.reward = -self.r_ts[self.current_step + self.k - 1]\n",
    "        else:\n",
    "            self.reward = self.r_ts[self.current_step + self.k - 1]\n",
    "        self.state = self.data.iloc[self.current_step:(self.k + self.current_step), :].copy().to_numpy().flatten()\n",
    "        return self.state, self.reward, self.is_terminal\n",
    "\n",
    "    def reset(self):\n",
    "        self.total_steps = self.data.shape[0] - self.k\n",
    "        self.current_step = 0\n",
    "        self.initial_state = self.data.iloc[:self.k, :].copy().to_numpy().flatten()\n",
    "        self.state = np.copy(self.initial_state)\n",
    "        self.reward = 0.0\n",
    "        self.is_terminal = False\n",
    "        return self.state"
   ]
  },
  {
   "cell_type": "markdown",
   "metadata": {
    "id": "Wxf-pONM9Ev1"
   },
   "source": [
    "## Configs, Training and Testing functions"
   ]
  },
  {
   "cell_type": "code",
   "execution_count": 110,
   "metadata": {
    "id": "Zc8Jdw7lYiql"
   },
   "outputs": [],
   "source": [
    "import gym\n",
    "import torch\n",
    "import numpy as np\n",
    "import random\n",
    "import datetime as dt\n",
    "import pandas as pd\n",
    "import matplotlib.pyplot as plt\n",
    "from sklearn.metrics import accuracy_score, confusion_matrix\n",
    "\n",
    "\n",
    "class Config:\n",
    "    '''\n",
    "    hyperparameters\n",
    "    '''\n",
    "\n",
    "    def __init__(self, k_value, feature_num, hidden_dim):\n",
    "        ################################## env hyperparameters ###################################\n",
    "        self.algo_name = 'DQN' # algorithmic name\n",
    "        self.env_name = 'TradingSystem_v0' # environment name\n",
    "        self.device = torch.device(\n",
    "            \"cuda\" if torch.cuda.is_available() else \"cpu\")  # examine GPU\n",
    "        self.seed = 11 # random seed\n",
    "        self.train_eps = 1 # training episodes\n",
    "        self.k = k_value #  (K-value)\n",
    "        self.features = feature_num # number of features (Here is the number of columns in the dataset)\n",
    "        self.state_space_dim = self.k*self.features # state space size\n",
    "        self.action_space_dim = 2 # action space size (short: 0, long: 1)\n",
    "        ################################################################################\n",
    "\n",
    "        ################################## algo hyperparameters ###################################\n",
    "        self.gamma = 0.95  # discount factor\n",
    "        self.epsilon_start = 0.90  # start epsilon of e-greedy policy\n",
    "        self.epsilon_end = 0.01  # end epsilon of e-greedy policy\n",
    "        self.epsilon_decay = 500  # attenuation rate of epsilon in e-greedy policy\n",
    "        self.lr = 0.0001  # learning rate\n",
    "        self.memory_capacity = 1000  # capacity of experience replay\n",
    "        self.batch_size = 64  # size of mini-batch SGD\n",
    "        self.target_update = 100  # update frequency of target network\n",
    "        self.hidden_dim = hidden_dim  # dimension of hidden layer\n",
    "        ################################################################################\n",
    "\n",
    "\n",
    "def train_and_validate(train_data, valid_data, valid_label, cfg):\n",
    "    print('Start Training!')\n",
    "    print(f'Environment：{cfg.env_name}, Algorithm：{cfg.algo_name}, Device：{cfg.device}')\n",
    "    env = TradingSystem_v0(train_data, cfg.k)\n",
    "    agent = DQN(cfg.state_space_dim, cfg.action_space_dim, cfg)\n",
    "    count = 0\n",
    "    for i_ep in range(cfg.train_eps):\n",
    "        print(f'Episode：{str(i_ep+1)}')\n",
    "        state = env.reset()\n",
    "        while True:\n",
    "            action = agent.choose_action(state)\n",
    "            next_state, reward, done = env.step(action)\n",
    "            agent.memory.push(state, action, reward, next_state, done)  # save transition\n",
    "            state = next_state\n",
    "            agent.update()\n",
    "            count += 1\n",
    "            if count % cfg.target_update == 0:  # update target network\n",
    "                agent.target_net.load_state_dict(agent.policy_net.state_dict())\n",
    "            if done:\n",
    "                break\n",
    "    print('Finish Training!')\n",
    "\n",
    "    mlp = agent.get_policy_net()\n",
    "    # Test does not use e-greedy policy, so we set epsilon to 0\n",
    "    cfg.epsilon_start = 0.0\n",
    "    cfg.epsilon_end = 0.0\n",
    "\n",
    "    print('Start Validating!')\n",
    "    print(f'Environment：{cfg.env_name}, Algorithm：{cfg.algo_name}, Device：{cfg.device}')\n",
    "    env = TradingSystem_v0(valid_data, cfg.k)\n",
    "    agent = DQN(cfg.state_space_dim, cfg.action_space_dim, cfg)\n",
    "    agent.set_policy_net(mlp) # load the trained net\n",
    "    actions = [] # record actions with max Q-value (can also be regarded as price direction !!!!!)\n",
    "    state = env.reset()\n",
    "    while True:\n",
    "        action = agent.choose_action(state)\n",
    "        next_state, reward, done = env.step(action)\n",
    "        state = next_state\n",
    "        actions.append(action)\n",
    "        if done:\n",
    "            break\n",
    "    print('Finish Validating!')\n",
    "    accuracy = accuracy_score(valid_label[(cfg.k-1):(len(valid_label)-1)].to_numpy(), actions)\n",
    "    return mlp, accuracy\n",
    "\n",
    "def test(test_data, test_label, cfg, policy_net):\n",
    "    cfg.epsilon_start = 0.0\n",
    "    cfg.epsilon_end = 0.0\n",
    "    print('Start Testing!')\n",
    "    print(f'Environment：{cfg.env_name}, Algorithm：{cfg.algo_name}, Device：{cfg.device}')\n",
    "    env = TradingSystem_v0(test_data, cfg.k)\n",
    "    agent = DQN(cfg.state_space_dim, cfg.action_space_dim, cfg)\n",
    "    agent.set_policy_net(policy_net) # load the trained net\n",
    "    actions = [] # record actions with max Q-value (can also be regarded as price direction !!!!!)\n",
    "    state = env.reset()\n",
    "    while True:\n",
    "        action = agent.choose_action(state)\n",
    "        next_state, reward, done = env.step(action)\n",
    "        state = next_state\n",
    "        actions.append(action)\n",
    "        if done:\n",
    "            break\n",
    "    print('Finish Testing!')\n",
    "    accuracy = accuracy_score(test_label[(cfg.k-1):(len(test_label)-1)].to_numpy(), actions)\n",
    "    confusion = confusion_matrix(test_label[(cfg.k-1):(len(test_label)-1)].to_numpy(), actions)\n",
    "    return accuracy, confusion"
   ]
  },
  {
   "cell_type": "markdown",
   "metadata": {
    "id": "EqQyWQvD9le0"
   },
   "source": [
    "## Hyperparameter Tuning"
   ]
  },
  {
   "cell_type": "code",
   "execution_count": 111,
   "metadata": {
    "colab": {
     "base_uri": "https://localhost:8080/"
    },
    "id": "QhlFXfPz9qIl",
    "outputId": "7c76ce01-373f-4901-9b9a-c8787ea18b6b"
   },
   "outputs": [
    {
     "name": "stdout",
     "output_type": "stream",
     "text": [
      "Start Training!\n",
      "Environment：TradingSystem_v0, Algorithm：DQN, Device：cuda\n",
      "Episode：1\n",
      "Finish Training!\n",
      "Start Validating!\n",
      "Environment：TradingSystem_v0, Algorithm：DQN, Device：cuda\n",
      "Finish Validating!\n",
      "Start Training!\n",
      "Environment：TradingSystem_v0, Algorithm：DQN, Device：cuda\n",
      "Episode：1\n",
      "Finish Training!\n",
      "Start Validating!\n",
      "Environment：TradingSystem_v0, Algorithm：DQN, Device：cuda\n",
      "Finish Validating!\n",
      "Start Training!\n",
      "Environment：TradingSystem_v0, Algorithm：DQN, Device：cuda\n",
      "Episode：1\n",
      "Finish Training!\n",
      "Start Validating!\n",
      "Environment：TradingSystem_v0, Algorithm：DQN, Device：cuda\n",
      "Finish Validating!\n",
      "Start Training!\n",
      "Environment：TradingSystem_v0, Algorithm：DQN, Device：cuda\n",
      "Episode：1\n",
      "Finish Training!\n",
      "Start Validating!\n",
      "Environment：TradingSystem_v0, Algorithm：DQN, Device：cuda\n",
      "Finish Validating!\n",
      "Start Training!\n",
      "Environment：TradingSystem_v0, Algorithm：DQN, Device：cuda\n",
      "Episode：1\n",
      "Finish Training!\n",
      "Start Validating!\n",
      "Environment：TradingSystem_v0, Algorithm：DQN, Device：cuda\n",
      "Finish Validating!\n",
      "Start Training!\n",
      "Environment：TradingSystem_v0, Algorithm：DQN, Device：cuda\n",
      "Episode：1\n",
      "Finish Training!\n",
      "Start Validating!\n",
      "Environment：TradingSystem_v0, Algorithm：DQN, Device：cuda\n",
      "Finish Validating!\n"
     ]
    }
   ],
   "source": [
    "# hyperparameter grids\n",
    "features_list = df.columns.to_list()\n",
    "hidden_dim_list = [32,64,128,256,512,1024]\n",
    "k_list = [5, 10, 20, 50, 100]\n",
    "\n",
    "# metric list\n",
    "accuracy_list = []\n",
    "\n",
    "# first determine the best number of hidden nodes \n",
    "for hidden_dim in hidden_dim_list:\n",
    "    cfg = Config(k_value = 50, feature_num=len(features_list), hidden_dim=hidden_dim)\n",
    "    # set random seeds\n",
    "    torch.manual_seed(cfg.seed)\n",
    "    np.random.seed(cfg.seed)\n",
    "    random.seed(cfg.seed)\n",
    "    _, accuracy = train_and_validate(X_train[features_list], X_validation[features_list], y_validation, cfg)\n",
    "    accuracy_list.append(accuracy)"
   ]
  },
  {
   "cell_type": "code",
   "execution_count": 112,
   "metadata": {
    "colab": {
     "base_uri": "https://localhost:8080/",
     "height": 295
    },
    "id": "IHfdGXHoYis8",
    "outputId": "2c25612d-2c40-49dc-b0af-a49db4e39bfa"
   },
   "outputs": [
    {
     "data": {
      "image/png": "[encoded data removed]",
      "text/plain": [
       "<Figure size 432x288 with 1 Axes>"
      ]
     },
     "metadata": {
      "needs_background": "light"
     },
     "output_type": "display_data"
    }
   ],
   "source": [
    "# we should set hidden_dim = 256\n",
    "plt.plot(hidden_dim_list, accuracy_list)\n",
    "plt.title(\"accuracy with different no. of hidden nodes (k = 50)\")\n",
    "plt.xlabel(\"no. of hidden nodes\")\n",
    "plt.ylabel(\"validation accuracy\")\n",
    "plt.show()"
   ]
  },
  {
   "cell_type": "code",
   "execution_count": 113,
   "metadata": {
    "colab": {
     "base_uri": "https://localhost:8080/"
    },
    "id": "3M_plm5yYivR",
    "outputId": "460e8e41-02bd-4d8b-a3f9-56b61d891e51"
   },
   "outputs": [
    {
     "name": "stdout",
     "output_type": "stream",
     "text": [
      "Start Training!\n",
      "Environment：TradingSystem_v0, Algorithm：DQN, Device：cuda\n",
      "Episode：1\n",
      "Finish Training!\n",
      "Start Validating!\n",
      "Environment：TradingSystem_v0, Algorithm：DQN, Device：cuda\n",
      "Finish Validating!\n",
      "Start Training!\n",
      "Environment：TradingSystem_v0, Algorithm：DQN, Device：cuda\n",
      "Episode：1\n",
      "Finish Training!\n",
      "Start Validating!\n",
      "Environment：TradingSystem_v0, Algorithm：DQN, Device：cuda\n",
      "Finish Validating!\n",
      "Start Training!\n",
      "Environment：TradingSystem_v0, Algorithm：DQN, Device：cuda\n",
      "Episode：1\n",
      "Finish Training!\n",
      "Start Validating!\n",
      "Environment：TradingSystem_v0, Algorithm：DQN, Device：cuda\n",
      "Finish Validating!\n",
      "Start Training!\n",
      "Environment：TradingSystem_v0, Algorithm：DQN, Device：cuda\n",
      "Episode：1\n",
      "Finish Training!\n",
      "Start Validating!\n",
      "Environment：TradingSystem_v0, Algorithm：DQN, Device：cuda\n",
      "Finish Validating!\n",
      "Start Training!\n",
      "Environment：TradingSystem_v0, Algorithm：DQN, Device：cuda\n",
      "Episode：1\n",
      "Finish Training!\n",
      "Start Validating!\n",
      "Environment：TradingSystem_v0, Algorithm：DQN, Device：cuda\n",
      "Finish Validating!\n"
     ]
    }
   ],
   "source": [
    "# metric list\n",
    "accuracy_list = []\n",
    "\n",
    "# next choose the best k value\n",
    "for k_value in k_list:\n",
    "    cfg = Config(k_value = k_value, feature_num=len(features_list), hidden_dim=256) # Here we fix hidden_dim = 256\n",
    "    # set random seeds\n",
    "    torch.manual_seed(cfg.seed)\n",
    "    np.random.seed(cfg.seed)\n",
    "    random.seed(cfg.seed)\n",
    "    _, accuracy = train_and_validate(X_train[features_list], X_validation[features_list], y_validation, cfg)\n",
    "    accuracy_list.append(accuracy)"
   ]
  },
  {
   "cell_type": "code",
   "execution_count": 114,
   "metadata": {
    "colab": {
     "base_uri": "https://localhost:8080/",
     "height": 295
    },
    "id": "CvRUicBEYixG",
    "outputId": "33941d27-6535-47ed-a9be-b1e95d1f1ca3"
   },
   "outputs": [
    {
     "data": {
      "image/png": "[encoded data removed]",
      "text/plain": [
       "<Figure size 432x288 with 1 Axes>"
      ]
     },
     "metadata": {
      "needs_background": "light"
     },
     "output_type": "display_data"
    }
   ],
   "source": [
    "# we should set k_value = 10\n",
    "plt.plot(k_list, accuracy_list)\n",
    "plt.title(\"accuracy with different k values (hidden_dim = 256)\")\n",
    "plt.xlabel(\"k value\")\n",
    "plt.ylabel(\"validation accuracy\")\n",
    "plt.show()"
   ]
  },
  {
   "cell_type": "markdown",
   "metadata": {
    "id": "Zsbr9dNULpyF"
   },
   "source": [
    "## Result on Test Set"
   ]
  },
  {
   "cell_type": "code",
   "execution_count": 115,
   "metadata": {
    "colab": {
     "base_uri": "https://localhost:8080/"
    },
    "id": "1YNU0AMhLoij",
    "outputId": "0a8f56b5-6286-4689-a04d-5353f4d2c2a4"
   },
   "outputs": [
    {
     "name": "stdout",
     "output_type": "stream",
     "text": [
      "Start Training!\n",
      "Environment：TradingSystem_v0, Algorithm：DQN, Device：cuda\n",
      "Episode：1\n",
      "Finish Training!\n",
      "Start Validating!\n",
      "Environment：TradingSystem_v0, Algorithm：DQN, Device：cuda\n",
      "Finish Validating!\n",
      "Start Testing!\n",
      "Environment：TradingSystem_v0, Algorithm：DQN, Device：cuda\n",
      "Finish Testing!\n"
     ]
    }
   ],
   "source": [
    "cfg = Config(k_value = 10, feature_num=len(features_list), hidden_dim=256)\n",
    "# set random seeds\n",
    "torch.manual_seed(cfg.seed)\n",
    "np.random.seed(cfg.seed)\n",
    "random.seed(cfg.seed)\n",
    "model, val_accuracy = train_and_validate(X_train[features_list], X_validation[features_list], y_validation, cfg)\n",
    "\n",
    "test_accuracy, confusion = test(X_test[features_list], y_test, cfg, model)"
   ]
  },
  {
   "cell_type": "code",
   "execution_count": 116,
   "metadata": {
    "colab": {
     "base_uri": "https://localhost:8080/"
    },
    "id": "q0hQ20qXLolt",
    "outputId": "d8b94cf5-f063-4830-ceb7-c3d1275c94be"
   },
   "outputs": [
    {
     "data": {
      "text/plain": [
       "0.5414507772020726"
      ]
     },
     "execution_count": 116,
     "metadata": {},
     "output_type": "execute_result"
    }
   ],
   "source": [
    "val_accuracy"
   ]
  },
  {
   "cell_type": "code",
   "execution_count": 117,
   "metadata": {
    "colab": {
     "base_uri": "https://localhost:8080/"
    },
    "id": "6jNhUjt2Lorh",
    "outputId": "731e7d92-667b-441d-f6d5-e1021ebfabe7"
   },
   "outputs": [
    {
     "data": {
      "text/plain": [
       "0.5581395348837209"
      ]
     },
     "execution_count": 117,
     "metadata": {},
     "output_type": "execute_result"
    }
   ],
   "source": [
    "# The model can correctly predict about 56% of S&P500 daily price directions.\n",
    "test_accuracy "
   ]
  },
  {
   "cell_type": "code",
   "execution_count": 118,
   "metadata": {
    "colab": {
     "base_uri": "https://localhost:8080/"
    },
    "id": "k1CRElLFLovo",
    "outputId": "4b240032-ffb4-4827-c27e-148468195183"
   },
   "outputs": [
    {
     "data": {
      "text/plain": [
       "array([[24, 36],\n",
       "       [21, 48]])"
      ]
     },
     "execution_count": 118,
     "metadata": {},
     "output_type": "execute_result"
    }
   ],
   "source": [
    "# We got a relatively high false positive rate, meaning for many days we predict the price will go up while it actually goes down.\n",
    "confusion"
   ]
  },
  {
   "cell_type": "markdown",
   "metadata": {
    "id": "dDGgPTyAWf87"
   },
   "source": [
    "For DQN model we cannot plot the ROC(AUC) plot because output of the network here are estimated Q-values for each action instead of the probability of each direction. Therefore, setting thresholds does not make sense in DQN model."
   ]
  },
  {
   "cell_type": "code",
   "execution_count": null,
   "metadata": {
    "id": "ntRqL-dkLoxu"
   },
   "outputs": [],
   "source": []
  }
 ],
 "metadata": {
  "accelerator": "GPU",
  "colab": {
   "collapsed_sections": [],
   "name": "Copy of Feature Engineering + DL Model.ipynb",
   "provenance": []
  },
  "kernelspec": {
   "display_name": "Python 3 (ipykernel)",
   "language": "python",
   "name": "python3"
  },
  "language_info": {
   "codemirror_mode": {
    "name": "ipython",
    "version": 3
   },
   "file_extension": ".py",
   "mimetype": "text/x-python",
   "name": "python",
   "nbconvert_exporter": "python",
   "pygments_lexer": "ipython3",
   "version": "3.11.5"
  }
 },
 "nbformat": 4,
 "nbformat_minor": 1
}
